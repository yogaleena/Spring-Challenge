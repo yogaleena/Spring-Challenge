{
  "nbformat": 4,
  "nbformat_minor": 0,
  "metadata": {
    "colab": {
      "name": "Lee Winter 2022 Data Science Internship Challenge.ipynb",
      "provenance": [],
      "collapsed_sections": []
    },
    "kernelspec": {
      "name": "python3",
      "display_name": "Python 3"
    },
    "language_info": {
      "name": "python"
    }
  },
  "cells": [
    {
      "cell_type": "markdown",
      "metadata": {
        "id": "hx-MhcdThe9D"
      },
      "source": [
        "# **Winter 2022 Data Science Intern Challenge**"
      ]
    },
    {
      "cell_type": "markdown",
      "metadata": {
        "id": "szqZ00CJEjVe"
      },
      "source": [
        "**Question 1:**"
      ]
    },
    {
      "cell_type": "markdown",
      "metadata": {
        "id": "t13ALqdwg2Pf"
      },
      "source": [
        "**On Shopify, we have exactly 100 sneaker shops, and each of these shops sells only one model of shoe. We want to do some analysis of the average order value (AOV). When we look at orders data over a 30 day window, we naively calculate an AOV of $3145.13. Given that we know these shops are selling sneakers, a relatively affordable item, something seems wrong with our analysis**\n"
      ]
    },
    {
      "cell_type": "markdown",
      "metadata": {
        "id": "T2n7I3i0hr-t"
      },
      "source": [
        "Importing useful libraries:"
      ]
    },
    {
      "cell_type": "code",
      "metadata": {
        "id": "X0WVYfgEY8za"
      },
      "source": [
        "import pandas as pd\n",
        "import numpy as np \n",
        "import matplotlib.pyplot as plt"
      ],
      "execution_count": null,
      "outputs": []
    },
    {
      "cell_type": "markdown",
      "metadata": {
        "id": "2QU3wLoahwbr"
      },
      "source": [
        "Importing the dataset from drive"
      ]
    },
    {
      "cell_type": "code",
      "metadata": {
        "colab": {
          "base_uri": "https://localhost:8080/"
        },
        "id": "8oBLvyica-J5",
        "outputId": "56de13cd-c27e-44ee-c950-2a6b2c3b4a4e"
      },
      "source": [
        "from google.colab import drive \n",
        "drive.mount('/content/drive')"
      ],
      "execution_count": null,
      "outputs": [
        {
          "output_type": "stream",
          "name": "stdout",
          "text": [
            "Mounted at /content/drive\n"
          ]
        }
      ]
    },
    {
      "cell_type": "code",
      "metadata": {
        "id": "Vl6koJbJcOg3"
      },
      "source": [
        "df=pd.read_excel(\"/content/drive/MyDrive/2019 Winter Data Science Intern Challenge Data Set.xlsx\")"
      ],
      "execution_count": null,
      "outputs": []
    },
    {
      "cell_type": "markdown",
      "metadata": {
        "id": "5PRW90raijxU"
      },
      "source": [
        "Checking the dataset for Initial look"
      ]
    },
    {
      "cell_type": "code",
      "metadata": {
        "colab": {
          "base_uri": "https://localhost:8080/",
          "height": 206
        },
        "id": "3Rs1JDzUcmZ_",
        "outputId": "a8a5270c-323e-4ee8-fbdc-b2a861a9010e"
      },
      "source": [
        "df.head()"
      ],
      "execution_count": null,
      "outputs": [
        {
          "output_type": "execute_result",
          "data": {
            "text/html": [
              "<div>\n",
              "<style scoped>\n",
              "    .dataframe tbody tr th:only-of-type {\n",
              "        vertical-align: middle;\n",
              "    }\n",
              "\n",
              "    .dataframe tbody tr th {\n",
              "        vertical-align: top;\n",
              "    }\n",
              "\n",
              "    .dataframe thead th {\n",
              "        text-align: right;\n",
              "    }\n",
              "</style>\n",
              "<table border=\"1\" class=\"dataframe\">\n",
              "  <thead>\n",
              "    <tr style=\"text-align: right;\">\n",
              "      <th></th>\n",
              "      <th>order_id</th>\n",
              "      <th>shop_id</th>\n",
              "      <th>user_id</th>\n",
              "      <th>order_amount</th>\n",
              "      <th>total_items</th>\n",
              "      <th>payment_method</th>\n",
              "      <th>created_at</th>\n",
              "    </tr>\n",
              "  </thead>\n",
              "  <tbody>\n",
              "    <tr>\n",
              "      <th>0</th>\n",
              "      <td>1</td>\n",
              "      <td>53</td>\n",
              "      <td>746</td>\n",
              "      <td>224</td>\n",
              "      <td>2</td>\n",
              "      <td>cash</td>\n",
              "      <td>2017-03-13 12:36:56.190</td>\n",
              "    </tr>\n",
              "    <tr>\n",
              "      <th>1</th>\n",
              "      <td>2</td>\n",
              "      <td>92</td>\n",
              "      <td>925</td>\n",
              "      <td>90</td>\n",
              "      <td>1</td>\n",
              "      <td>cash</td>\n",
              "      <td>2017-03-03 17:38:51.999</td>\n",
              "    </tr>\n",
              "    <tr>\n",
              "      <th>2</th>\n",
              "      <td>3</td>\n",
              "      <td>44</td>\n",
              "      <td>861</td>\n",
              "      <td>144</td>\n",
              "      <td>1</td>\n",
              "      <td>cash</td>\n",
              "      <td>2017-03-14 04:23:55.595</td>\n",
              "    </tr>\n",
              "    <tr>\n",
              "      <th>3</th>\n",
              "      <td>4</td>\n",
              "      <td>18</td>\n",
              "      <td>935</td>\n",
              "      <td>156</td>\n",
              "      <td>1</td>\n",
              "      <td>credit_card</td>\n",
              "      <td>2017-03-26 12:43:36.649</td>\n",
              "    </tr>\n",
              "    <tr>\n",
              "      <th>4</th>\n",
              "      <td>5</td>\n",
              "      <td>18</td>\n",
              "      <td>883</td>\n",
              "      <td>156</td>\n",
              "      <td>1</td>\n",
              "      <td>credit_card</td>\n",
              "      <td>2017-03-01 04:35:10.773</td>\n",
              "    </tr>\n",
              "  </tbody>\n",
              "</table>\n",
              "</div>"
            ],
            "text/plain": [
              "   order_id  shop_id  ...  payment_method              created_at\n",
              "0         1       53  ...            cash 2017-03-13 12:36:56.190\n",
              "1         2       92  ...            cash 2017-03-03 17:38:51.999\n",
              "2         3       44  ...            cash 2017-03-14 04:23:55.595\n",
              "3         4       18  ...     credit_card 2017-03-26 12:43:36.649\n",
              "4         5       18  ...     credit_card 2017-03-01 04:35:10.773\n",
              "\n",
              "[5 rows x 7 columns]"
            ]
          },
          "metadata": {},
          "execution_count": 6
        }
      ]
    },
    {
      "cell_type": "markdown",
      "metadata": {
        "id": "qvoDiMwMivEq"
      },
      "source": [
        "Looking for Null values and all the information in the dataset"
      ]
    },
    {
      "cell_type": "code",
      "metadata": {
        "colab": {
          "base_uri": "https://localhost:8080/"
        },
        "id": "FkARueS2dL3K",
        "outputId": "ea451303-4fbe-490c-d52d-b484e58c985a"
      },
      "source": [
        "df.info()"
      ],
      "execution_count": null,
      "outputs": [
        {
          "output_type": "stream",
          "name": "stdout",
          "text": [
            "<class 'pandas.core.frame.DataFrame'>\n",
            "RangeIndex: 5000 entries, 0 to 4999\n",
            "Data columns (total 7 columns):\n",
            " #   Column          Non-Null Count  Dtype         \n",
            "---  ------          --------------  -----         \n",
            " 0   order_id        5000 non-null   int64         \n",
            " 1   shop_id         5000 non-null   int64         \n",
            " 2   user_id         5000 non-null   int64         \n",
            " 3   order_amount    5000 non-null   int64         \n",
            " 4   total_items     5000 non-null   int64         \n",
            " 5   payment_method  5000 non-null   object        \n",
            " 6   created_at      5000 non-null   datetime64[ns]\n",
            "dtypes: datetime64[ns](1), int64(5), object(1)\n",
            "memory usage: 273.6+ KB\n"
          ]
        }
      ]
    },
    {
      "cell_type": "markdown",
      "metadata": {
        "id": "UXb0AChgi4t-"
      },
      "source": [
        "Checking all the values from mean, std, min,max. And we can see from the below function that the std is 41282.539349 for order_amount which implies that the values vary in the dataset making the mean not a proper representation for AOV."
      ]
    },
    {
      "cell_type": "code",
      "metadata": {
        "colab": {
          "base_uri": "https://localhost:8080/",
          "height": 300
        },
        "id": "GAQ4KFnqdaU6",
        "outputId": "8d357b04-5536-4732-aafb-2e9f4a02a35a"
      },
      "source": [
        "df.describe()"
      ],
      "execution_count": null,
      "outputs": [
        {
          "output_type": "execute_result",
          "data": {
            "text/html": [
              "<div>\n",
              "<style scoped>\n",
              "    .dataframe tbody tr th:only-of-type {\n",
              "        vertical-align: middle;\n",
              "    }\n",
              "\n",
              "    .dataframe tbody tr th {\n",
              "        vertical-align: top;\n",
              "    }\n",
              "\n",
              "    .dataframe thead th {\n",
              "        text-align: right;\n",
              "    }\n",
              "</style>\n",
              "<table border=\"1\" class=\"dataframe\">\n",
              "  <thead>\n",
              "    <tr style=\"text-align: right;\">\n",
              "      <th></th>\n",
              "      <th>order_id</th>\n",
              "      <th>shop_id</th>\n",
              "      <th>user_id</th>\n",
              "      <th>order_amount</th>\n",
              "      <th>total_items</th>\n",
              "    </tr>\n",
              "  </thead>\n",
              "  <tbody>\n",
              "    <tr>\n",
              "      <th>count</th>\n",
              "      <td>5000.000000</td>\n",
              "      <td>5000.000000</td>\n",
              "      <td>5000.000000</td>\n",
              "      <td>5000.000000</td>\n",
              "      <td>5000.00000</td>\n",
              "    </tr>\n",
              "    <tr>\n",
              "      <th>mean</th>\n",
              "      <td>2500.500000</td>\n",
              "      <td>50.078800</td>\n",
              "      <td>849.092400</td>\n",
              "      <td>3145.128000</td>\n",
              "      <td>8.78720</td>\n",
              "    </tr>\n",
              "    <tr>\n",
              "      <th>std</th>\n",
              "      <td>1443.520003</td>\n",
              "      <td>29.006118</td>\n",
              "      <td>87.798982</td>\n",
              "      <td>41282.539349</td>\n",
              "      <td>116.32032</td>\n",
              "    </tr>\n",
              "    <tr>\n",
              "      <th>min</th>\n",
              "      <td>1.000000</td>\n",
              "      <td>1.000000</td>\n",
              "      <td>607.000000</td>\n",
              "      <td>90.000000</td>\n",
              "      <td>1.00000</td>\n",
              "    </tr>\n",
              "    <tr>\n",
              "      <th>25%</th>\n",
              "      <td>1250.750000</td>\n",
              "      <td>24.000000</td>\n",
              "      <td>775.000000</td>\n",
              "      <td>163.000000</td>\n",
              "      <td>1.00000</td>\n",
              "    </tr>\n",
              "    <tr>\n",
              "      <th>50%</th>\n",
              "      <td>2500.500000</td>\n",
              "      <td>50.000000</td>\n",
              "      <td>849.000000</td>\n",
              "      <td>284.000000</td>\n",
              "      <td>2.00000</td>\n",
              "    </tr>\n",
              "    <tr>\n",
              "      <th>75%</th>\n",
              "      <td>3750.250000</td>\n",
              "      <td>75.000000</td>\n",
              "      <td>925.000000</td>\n",
              "      <td>390.000000</td>\n",
              "      <td>3.00000</td>\n",
              "    </tr>\n",
              "    <tr>\n",
              "      <th>max</th>\n",
              "      <td>5000.000000</td>\n",
              "      <td>100.000000</td>\n",
              "      <td>999.000000</td>\n",
              "      <td>704000.000000</td>\n",
              "      <td>2000.00000</td>\n",
              "    </tr>\n",
              "  </tbody>\n",
              "</table>\n",
              "</div>"
            ],
            "text/plain": [
              "          order_id      shop_id      user_id   order_amount  total_items\n",
              "count  5000.000000  5000.000000  5000.000000    5000.000000   5000.00000\n",
              "mean   2500.500000    50.078800   849.092400    3145.128000      8.78720\n",
              "std    1443.520003    29.006118    87.798982   41282.539349    116.32032\n",
              "min       1.000000     1.000000   607.000000      90.000000      1.00000\n",
              "25%    1250.750000    24.000000   775.000000     163.000000      1.00000\n",
              "50%    2500.500000    50.000000   849.000000     284.000000      2.00000\n",
              "75%    3750.250000    75.000000   925.000000     390.000000      3.00000\n",
              "max    5000.000000   100.000000   999.000000  704000.000000   2000.00000"
            ]
          },
          "metadata": {},
          "execution_count": 8
        }
      ]
    },
    {
      "cell_type": "markdown",
      "metadata": {
        "id": "-rUhOOa2n4QJ"
      },
      "source": [
        "From the boxplot below we can see outliers for order_amount and we need to check further for higher values present in it."
      ]
    },
    {
      "cell_type": "code",
      "metadata": {
        "colab": {
          "base_uri": "https://localhost:8080/",
          "height": 404
        },
        "id": "q1kwf9ztdqe8",
        "outputId": "f746cc4e-6c8c-4ffb-ca5c-3be075a0af4c"
      },
      "source": [
        "plt.boxplot(df[\"order_amount\"])"
      ],
      "execution_count": null,
      "outputs": [
        {
          "output_type": "execute_result",
          "data": {
            "text/plain": [
              "{'boxes': [<matplotlib.lines.Line2D at 0x7f6eec195d10>],\n",
              " 'caps': [<matplotlib.lines.Line2D at 0x7f6eec1b3810>,\n",
              "  <matplotlib.lines.Line2D at 0x7f6eec1b3d50>],\n",
              " 'fliers': [<matplotlib.lines.Line2D at 0x7f6eec195e10>],\n",
              " 'means': [],\n",
              " 'medians': [<matplotlib.lines.Line2D at 0x7f6eec1bb310>],\n",
              " 'whiskers': [<matplotlib.lines.Line2D at 0x7f6eec1aad50>,\n",
              "  <matplotlib.lines.Line2D at 0x7f6eec1b32d0>]}"
            ]
          },
          "metadata": {},
          "execution_count": 10
        },
        {
          "output_type": "display_data",
          "data": {
            "image/png": "[encoded data removed]",
            "text/plain": [
              "<Figure size 432x288 with 1 Axes>"
            ]
          },
          "metadata": {
            "needs_background": "light"
          }
        }
      ]
    },
    {
      "cell_type": "markdown",
      "metadata": {
        "id": "D1RN5ggwpLaZ"
      },
      "source": [
        "Sorting the values in the dataset based on order_amount to check the first 10 elements(trying to get some information to determine what is wrong)"
      ]
    },
    {
      "cell_type": "code",
      "metadata": {
        "colab": {
          "base_uri": "https://localhost:8080/",
          "height": 363
        },
        "id": "JYhK0bwTnwO_",
        "outputId": "09a4e402-68bf-420e-89f2-5bc04c9fd436"
      },
      "source": [
        "df.sort_values(\"order_amount\", ascending= False)[:10]"
      ],
      "execution_count": null,
      "outputs": [
        {
          "output_type": "execute_result",
          "data": {
            "text/html": [
              "<div>\n",
              "<style scoped>\n",
              "    .dataframe tbody tr th:only-of-type {\n",
              "        vertical-align: middle;\n",
              "    }\n",
              "\n",
              "    .dataframe tbody tr th {\n",
              "        vertical-align: top;\n",
              "    }\n",
              "\n",
              "    .dataframe thead th {\n",
              "        text-align: right;\n",
              "    }\n",
              "</style>\n",
              "<table border=\"1\" class=\"dataframe\">\n",
              "  <thead>\n",
              "    <tr style=\"text-align: right;\">\n",
              "      <th></th>\n",
              "      <th>order_id</th>\n",
              "      <th>shop_id</th>\n",
              "      <th>user_id</th>\n",
              "      <th>order_amount</th>\n",
              "      <th>total_items</th>\n",
              "      <th>payment_method</th>\n",
              "      <th>created_at</th>\n",
              "    </tr>\n",
              "  </thead>\n",
              "  <tbody>\n",
              "    <tr>\n",
              "      <th>2153</th>\n",
              "      <td>2154</td>\n",
              "      <td>42</td>\n",
              "      <td>607</td>\n",
              "      <td>704000</td>\n",
              "      <td>2000</td>\n",
              "      <td>credit_card</td>\n",
              "      <td>2017-03-12 04:00:00</td>\n",
              "    </tr>\n",
              "    <tr>\n",
              "      <th>3332</th>\n",
              "      <td>3333</td>\n",
              "      <td>42</td>\n",
              "      <td>607</td>\n",
              "      <td>704000</td>\n",
              "      <td>2000</td>\n",
              "      <td>credit_card</td>\n",
              "      <td>2017-03-24 04:00:00</td>\n",
              "    </tr>\n",
              "    <tr>\n",
              "      <th>520</th>\n",
              "      <td>521</td>\n",
              "      <td>42</td>\n",
              "      <td>607</td>\n",
              "      <td>704000</td>\n",
              "      <td>2000</td>\n",
              "      <td>credit_card</td>\n",
              "      <td>2017-03-02 04:00:00</td>\n",
              "    </tr>\n",
              "    <tr>\n",
              "      <th>1602</th>\n",
              "      <td>1603</td>\n",
              "      <td>42</td>\n",
              "      <td>607</td>\n",
              "      <td>704000</td>\n",
              "      <td>2000</td>\n",
              "      <td>credit_card</td>\n",
              "      <td>2017-03-17 04:00:00</td>\n",
              "    </tr>\n",
              "    <tr>\n",
              "      <th>60</th>\n",
              "      <td>61</td>\n",
              "      <td>42</td>\n",
              "      <td>607</td>\n",
              "      <td>704000</td>\n",
              "      <td>2000</td>\n",
              "      <td>credit_card</td>\n",
              "      <td>2017-03-04 04:00:00</td>\n",
              "    </tr>\n",
              "    <tr>\n",
              "      <th>2835</th>\n",
              "      <td>2836</td>\n",
              "      <td>42</td>\n",
              "      <td>607</td>\n",
              "      <td>704000</td>\n",
              "      <td>2000</td>\n",
              "      <td>credit_card</td>\n",
              "      <td>2017-03-28 04:00:00</td>\n",
              "    </tr>\n",
              "    <tr>\n",
              "      <th>4646</th>\n",
              "      <td>4647</td>\n",
              "      <td>42</td>\n",
              "      <td>607</td>\n",
              "      <td>704000</td>\n",
              "      <td>2000</td>\n",
              "      <td>credit_card</td>\n",
              "      <td>2017-03-02 04:00:00</td>\n",
              "    </tr>\n",
              "    <tr>\n",
              "      <th>2297</th>\n",
              "      <td>2298</td>\n",
              "      <td>42</td>\n",
              "      <td>607</td>\n",
              "      <td>704000</td>\n",
              "      <td>2000</td>\n",
              "      <td>credit_card</td>\n",
              "      <td>2017-03-07 04:00:00</td>\n",
              "    </tr>\n",
              "    <tr>\n",
              "      <th>1436</th>\n",
              "      <td>1437</td>\n",
              "      <td>42</td>\n",
              "      <td>607</td>\n",
              "      <td>704000</td>\n",
              "      <td>2000</td>\n",
              "      <td>credit_card</td>\n",
              "      <td>2017-03-11 04:00:00</td>\n",
              "    </tr>\n",
              "    <tr>\n",
              "      <th>4882</th>\n",
              "      <td>4883</td>\n",
              "      <td>42</td>\n",
              "      <td>607</td>\n",
              "      <td>704000</td>\n",
              "      <td>2000</td>\n",
              "      <td>credit_card</td>\n",
              "      <td>2017-03-25 04:00:00</td>\n",
              "    </tr>\n",
              "  </tbody>\n",
              "</table>\n",
              "</div>"
            ],
            "text/plain": [
              "      order_id  shop_id  ...  payment_method          created_at\n",
              "2153      2154       42  ...     credit_card 2017-03-12 04:00:00\n",
              "3332      3333       42  ...     credit_card 2017-03-24 04:00:00\n",
              "520        521       42  ...     credit_card 2017-03-02 04:00:00\n",
              "1602      1603       42  ...     credit_card 2017-03-17 04:00:00\n",
              "60          61       42  ...     credit_card 2017-03-04 04:00:00\n",
              "2835      2836       42  ...     credit_card 2017-03-28 04:00:00\n",
              "4646      4647       42  ...     credit_card 2017-03-02 04:00:00\n",
              "2297      2298       42  ...     credit_card 2017-03-07 04:00:00\n",
              "1436      1437       42  ...     credit_card 2017-03-11 04:00:00\n",
              "4882      4883       42  ...     credit_card 2017-03-25 04:00:00\n",
              "\n",
              "[10 rows x 7 columns]"
            ]
          },
          "metadata": {},
          "execution_count": 25
        }
      ]
    },
    {
      "cell_type": "markdown",
      "metadata": {
        "id": "1bbywucyp5we"
      },
      "source": [
        "Here we are using groupby to group by order_amount to check the values of order_amount and we can identify that there is a sudden change over the values 1760 to 25725."
      ]
    },
    {
      "cell_type": "code",
      "metadata": {
        "colab": {
          "base_uri": "https://localhost:8080/",
          "height": 363
        },
        "id": "kCgRv9z7gmY6",
        "outputId": "47f29245-c161-4de1-b8ba-4d929e5ded65"
      },
      "source": [
        "df.groupby(\"order_amount\").count().reset_index().sort_values(\"order_amount\", ascending= False)[:10]"
      ],
      "execution_count": null,
      "outputs": [
        {
          "output_type": "execute_result",
          "data": {
            "text/html": [
              "<div>\n",
              "<style scoped>\n",
              "    .dataframe tbody tr th:only-of-type {\n",
              "        vertical-align: middle;\n",
              "    }\n",
              "\n",
              "    .dataframe tbody tr th {\n",
              "        vertical-align: top;\n",
              "    }\n",
              "\n",
              "    .dataframe thead th {\n",
              "        text-align: right;\n",
              "    }\n",
              "</style>\n",
              "<table border=\"1\" class=\"dataframe\">\n",
              "  <thead>\n",
              "    <tr style=\"text-align: right;\">\n",
              "      <th></th>\n",
              "      <th>order_amount</th>\n",
              "      <th>order_id</th>\n",
              "      <th>shop_id</th>\n",
              "      <th>user_id</th>\n",
              "      <th>total_items</th>\n",
              "      <th>payment_method</th>\n",
              "      <th>created_at</th>\n",
              "    </tr>\n",
              "  </thead>\n",
              "  <tbody>\n",
              "    <tr>\n",
              "      <th>257</th>\n",
              "      <td>704000</td>\n",
              "      <td>17</td>\n",
              "      <td>17</td>\n",
              "      <td>17</td>\n",
              "      <td>17</td>\n",
              "      <td>17</td>\n",
              "      <td>17</td>\n",
              "    </tr>\n",
              "    <tr>\n",
              "      <th>256</th>\n",
              "      <td>154350</td>\n",
              "      <td>1</td>\n",
              "      <td>1</td>\n",
              "      <td>1</td>\n",
              "      <td>1</td>\n",
              "      <td>1</td>\n",
              "      <td>1</td>\n",
              "    </tr>\n",
              "    <tr>\n",
              "      <th>255</th>\n",
              "      <td>102900</td>\n",
              "      <td>1</td>\n",
              "      <td>1</td>\n",
              "      <td>1</td>\n",
              "      <td>1</td>\n",
              "      <td>1</td>\n",
              "      <td>1</td>\n",
              "    </tr>\n",
              "    <tr>\n",
              "      <th>254</th>\n",
              "      <td>77175</td>\n",
              "      <td>9</td>\n",
              "      <td>9</td>\n",
              "      <td>9</td>\n",
              "      <td>9</td>\n",
              "      <td>9</td>\n",
              "      <td>9</td>\n",
              "    </tr>\n",
              "    <tr>\n",
              "      <th>253</th>\n",
              "      <td>51450</td>\n",
              "      <td>16</td>\n",
              "      <td>16</td>\n",
              "      <td>16</td>\n",
              "      <td>16</td>\n",
              "      <td>16</td>\n",
              "      <td>16</td>\n",
              "    </tr>\n",
              "    <tr>\n",
              "      <th>252</th>\n",
              "      <td>25725</td>\n",
              "      <td>19</td>\n",
              "      <td>19</td>\n",
              "      <td>19</td>\n",
              "      <td>19</td>\n",
              "      <td>19</td>\n",
              "      <td>19</td>\n",
              "    </tr>\n",
              "    <tr>\n",
              "      <th>251</th>\n",
              "      <td>1760</td>\n",
              "      <td>1</td>\n",
              "      <td>1</td>\n",
              "      <td>1</td>\n",
              "      <td>1</td>\n",
              "      <td>1</td>\n",
              "      <td>1</td>\n",
              "    </tr>\n",
              "    <tr>\n",
              "      <th>250</th>\n",
              "      <td>1408</td>\n",
              "      <td>2</td>\n",
              "      <td>2</td>\n",
              "      <td>2</td>\n",
              "      <td>2</td>\n",
              "      <td>2</td>\n",
              "      <td>2</td>\n",
              "    </tr>\n",
              "    <tr>\n",
              "      <th>249</th>\n",
              "      <td>1086</td>\n",
              "      <td>1</td>\n",
              "      <td>1</td>\n",
              "      <td>1</td>\n",
              "      <td>1</td>\n",
              "      <td>1</td>\n",
              "      <td>1</td>\n",
              "    </tr>\n",
              "    <tr>\n",
              "      <th>248</th>\n",
              "      <td>1064</td>\n",
              "      <td>1</td>\n",
              "      <td>1</td>\n",
              "      <td>1</td>\n",
              "      <td>1</td>\n",
              "      <td>1</td>\n",
              "      <td>1</td>\n",
              "    </tr>\n",
              "  </tbody>\n",
              "</table>\n",
              "</div>"
            ],
            "text/plain": [
              "     order_amount  order_id  shop_id  ...  total_items  payment_method  created_at\n",
              "257        704000        17       17  ...           17              17          17\n",
              "256        154350         1        1  ...            1               1           1\n",
              "255        102900         1        1  ...            1               1           1\n",
              "254         77175         9        9  ...            9               9           9\n",
              "253         51450        16       16  ...           16              16          16\n",
              "252         25725        19       19  ...           19              19          19\n",
              "251          1760         1        1  ...            1               1           1\n",
              "250          1408         2        2  ...            2               2           2\n",
              "249          1086         1        1  ...            1               1           1\n",
              "248          1064         1        1  ...            1               1           1\n",
              "\n",
              "[10 rows x 7 columns]"
            ]
          },
          "metadata": {},
          "execution_count": 22
        }
      ]
    },
    {
      "cell_type": "markdown",
      "metadata": {
        "id": "f-49-ctoqN3v"
      },
      "source": [
        "checking all the orders based on shop_id '78' to check if all has the same amount. But it varies from the below execution."
      ]
    },
    {
      "cell_type": "code",
      "metadata": {
        "colab": {
          "base_uri": "https://localhost:8080/",
          "height": 1000
        },
        "id": "bZzBU7JikpxH",
        "outputId": "3c5fd313-58a4-4aee-8c2f-68ae314d390e"
      },
      "source": [
        "df[df['shop_id']==78]"
      ],
      "execution_count": null,
      "outputs": [
        {
          "output_type": "execute_result",
          "data": {
            "text/html": [
              "<div>\n",
              "<style scoped>\n",
              "    .dataframe tbody tr th:only-of-type {\n",
              "        vertical-align: middle;\n",
              "    }\n",
              "\n",
              "    .dataframe tbody tr th {\n",
              "        vertical-align: top;\n",
              "    }\n",
              "\n",
              "    .dataframe thead th {\n",
              "        text-align: right;\n",
              "    }\n",
              "</style>\n",
              "<table border=\"1\" class=\"dataframe\">\n",
              "  <thead>\n",
              "    <tr style=\"text-align: right;\">\n",
              "      <th></th>\n",
              "      <th>order_id</th>\n",
              "      <th>shop_id</th>\n",
              "      <th>user_id</th>\n",
              "      <th>order_amount</th>\n",
              "      <th>total_items</th>\n",
              "      <th>payment_method</th>\n",
              "      <th>created_at</th>\n",
              "    </tr>\n",
              "  </thead>\n",
              "  <tbody>\n",
              "    <tr>\n",
              "      <th>160</th>\n",
              "      <td>161</td>\n",
              "      <td>78</td>\n",
              "      <td>990</td>\n",
              "      <td>25725</td>\n",
              "      <td>1</td>\n",
              "      <td>credit_card</td>\n",
              "      <td>2017-03-12 05:56:56.834</td>\n",
              "    </tr>\n",
              "    <tr>\n",
              "      <th>490</th>\n",
              "      <td>491</td>\n",
              "      <td>78</td>\n",
              "      <td>936</td>\n",
              "      <td>51450</td>\n",
              "      <td>2</td>\n",
              "      <td>debit</td>\n",
              "      <td>2017-03-26 17:08:18.911</td>\n",
              "    </tr>\n",
              "    <tr>\n",
              "      <th>493</th>\n",
              "      <td>494</td>\n",
              "      <td>78</td>\n",
              "      <td>983</td>\n",
              "      <td>51450</td>\n",
              "      <td>2</td>\n",
              "      <td>cash</td>\n",
              "      <td>2017-03-16 21:39:35.400</td>\n",
              "    </tr>\n",
              "    <tr>\n",
              "      <th>511</th>\n",
              "      <td>512</td>\n",
              "      <td>78</td>\n",
              "      <td>967</td>\n",
              "      <td>51450</td>\n",
              "      <td>2</td>\n",
              "      <td>cash</td>\n",
              "      <td>2017-03-09 07:23:13.640</td>\n",
              "    </tr>\n",
              "    <tr>\n",
              "      <th>617</th>\n",
              "      <td>618</td>\n",
              "      <td>78</td>\n",
              "      <td>760</td>\n",
              "      <td>51450</td>\n",
              "      <td>2</td>\n",
              "      <td>cash</td>\n",
              "      <td>2017-03-18 11:18:41.848</td>\n",
              "    </tr>\n",
              "    <tr>\n",
              "      <th>691</th>\n",
              "      <td>692</td>\n",
              "      <td>78</td>\n",
              "      <td>878</td>\n",
              "      <td>154350</td>\n",
              "      <td>6</td>\n",
              "      <td>debit</td>\n",
              "      <td>2017-03-27 22:51:43.203</td>\n",
              "    </tr>\n",
              "    <tr>\n",
              "      <th>1056</th>\n",
              "      <td>1057</td>\n",
              "      <td>78</td>\n",
              "      <td>800</td>\n",
              "      <td>25725</td>\n",
              "      <td>1</td>\n",
              "      <td>debit</td>\n",
              "      <td>2017-03-15 10:16:44.830</td>\n",
              "    </tr>\n",
              "    <tr>\n",
              "      <th>1193</th>\n",
              "      <td>1194</td>\n",
              "      <td>78</td>\n",
              "      <td>944</td>\n",
              "      <td>25725</td>\n",
              "      <td>1</td>\n",
              "      <td>debit</td>\n",
              "      <td>2017-03-16 16:38:25.551</td>\n",
              "    </tr>\n",
              "    <tr>\n",
              "      <th>1204</th>\n",
              "      <td>1205</td>\n",
              "      <td>78</td>\n",
              "      <td>970</td>\n",
              "      <td>25725</td>\n",
              "      <td>1</td>\n",
              "      <td>credit_card</td>\n",
              "      <td>2017-03-17 22:32:21.438</td>\n",
              "    </tr>\n",
              "    <tr>\n",
              "      <th>1259</th>\n",
              "      <td>1260</td>\n",
              "      <td>78</td>\n",
              "      <td>775</td>\n",
              "      <td>77175</td>\n",
              "      <td>3</td>\n",
              "      <td>credit_card</td>\n",
              "      <td>2017-03-27 09:27:19.843</td>\n",
              "    </tr>\n",
              "    <tr>\n",
              "      <th>1384</th>\n",
              "      <td>1385</td>\n",
              "      <td>78</td>\n",
              "      <td>867</td>\n",
              "      <td>25725</td>\n",
              "      <td>1</td>\n",
              "      <td>cash</td>\n",
              "      <td>2017-03-17 16:38:06.279</td>\n",
              "    </tr>\n",
              "    <tr>\n",
              "      <th>1419</th>\n",
              "      <td>1420</td>\n",
              "      <td>78</td>\n",
              "      <td>912</td>\n",
              "      <td>25725</td>\n",
              "      <td>1</td>\n",
              "      <td>cash</td>\n",
              "      <td>2017-03-30 12:23:42.551</td>\n",
              "    </tr>\n",
              "    <tr>\n",
              "      <th>1452</th>\n",
              "      <td>1453</td>\n",
              "      <td>78</td>\n",
              "      <td>812</td>\n",
              "      <td>25725</td>\n",
              "      <td>1</td>\n",
              "      <td>credit_card</td>\n",
              "      <td>2017-03-17 18:09:54.089</td>\n",
              "    </tr>\n",
              "    <tr>\n",
              "      <th>1529</th>\n",
              "      <td>1530</td>\n",
              "      <td>78</td>\n",
              "      <td>810</td>\n",
              "      <td>51450</td>\n",
              "      <td>2</td>\n",
              "      <td>cash</td>\n",
              "      <td>2017-03-29 07:12:01.466</td>\n",
              "    </tr>\n",
              "    <tr>\n",
              "      <th>2270</th>\n",
              "      <td>2271</td>\n",
              "      <td>78</td>\n",
              "      <td>855</td>\n",
              "      <td>25725</td>\n",
              "      <td>1</td>\n",
              "      <td>credit_card</td>\n",
              "      <td>2017-03-14 23:58:21.635</td>\n",
              "    </tr>\n",
              "    <tr>\n",
              "      <th>2452</th>\n",
              "      <td>2453</td>\n",
              "      <td>78</td>\n",
              "      <td>709</td>\n",
              "      <td>51450</td>\n",
              "      <td>2</td>\n",
              "      <td>cash</td>\n",
              "      <td>2017-03-27 11:04:04.363</td>\n",
              "    </tr>\n",
              "    <tr>\n",
              "      <th>2492</th>\n",
              "      <td>2493</td>\n",
              "      <td>78</td>\n",
              "      <td>834</td>\n",
              "      <td>102900</td>\n",
              "      <td>4</td>\n",
              "      <td>debit</td>\n",
              "      <td>2017-03-04 04:37:33.848</td>\n",
              "    </tr>\n",
              "    <tr>\n",
              "      <th>2495</th>\n",
              "      <td>2496</td>\n",
              "      <td>78</td>\n",
              "      <td>707</td>\n",
              "      <td>51450</td>\n",
              "      <td>2</td>\n",
              "      <td>cash</td>\n",
              "      <td>2017-03-26 04:38:52.497</td>\n",
              "    </tr>\n",
              "    <tr>\n",
              "      <th>2512</th>\n",
              "      <td>2513</td>\n",
              "      <td>78</td>\n",
              "      <td>935</td>\n",
              "      <td>51450</td>\n",
              "      <td>2</td>\n",
              "      <td>debit</td>\n",
              "      <td>2017-03-18 18:57:13.421</td>\n",
              "    </tr>\n",
              "    <tr>\n",
              "      <th>2548</th>\n",
              "      <td>2549</td>\n",
              "      <td>78</td>\n",
              "      <td>861</td>\n",
              "      <td>25725</td>\n",
              "      <td>1</td>\n",
              "      <td>cash</td>\n",
              "      <td>2017-03-17 19:35:59.663</td>\n",
              "    </tr>\n",
              "    <tr>\n",
              "      <th>2564</th>\n",
              "      <td>2565</td>\n",
              "      <td>78</td>\n",
              "      <td>915</td>\n",
              "      <td>77175</td>\n",
              "      <td>3</td>\n",
              "      <td>debit</td>\n",
              "      <td>2017-03-25 01:19:35.410</td>\n",
              "    </tr>\n",
              "    <tr>\n",
              "      <th>2690</th>\n",
              "      <td>2691</td>\n",
              "      <td>78</td>\n",
              "      <td>962</td>\n",
              "      <td>77175</td>\n",
              "      <td>3</td>\n",
              "      <td>debit</td>\n",
              "      <td>2017-03-22 07:33:25.104</td>\n",
              "    </tr>\n",
              "    <tr>\n",
              "      <th>2773</th>\n",
              "      <td>2774</td>\n",
              "      <td>78</td>\n",
              "      <td>890</td>\n",
              "      <td>25725</td>\n",
              "      <td>1</td>\n",
              "      <td>cash</td>\n",
              "      <td>2017-03-26 10:36:43.445</td>\n",
              "    </tr>\n",
              "    <tr>\n",
              "      <th>2818</th>\n",
              "      <td>2819</td>\n",
              "      <td>78</td>\n",
              "      <td>869</td>\n",
              "      <td>51450</td>\n",
              "      <td>2</td>\n",
              "      <td>debit</td>\n",
              "      <td>2017-03-17 06:25:50.921</td>\n",
              "    </tr>\n",
              "    <tr>\n",
              "      <th>2821</th>\n",
              "      <td>2822</td>\n",
              "      <td>78</td>\n",
              "      <td>814</td>\n",
              "      <td>51450</td>\n",
              "      <td>2</td>\n",
              "      <td>cash</td>\n",
              "      <td>2017-03-02 17:13:25.271</td>\n",
              "    </tr>\n",
              "    <tr>\n",
              "      <th>2906</th>\n",
              "      <td>2907</td>\n",
              "      <td>78</td>\n",
              "      <td>817</td>\n",
              "      <td>77175</td>\n",
              "      <td>3</td>\n",
              "      <td>debit</td>\n",
              "      <td>2017-03-16 03:45:46.089</td>\n",
              "    </tr>\n",
              "    <tr>\n",
              "      <th>2922</th>\n",
              "      <td>2923</td>\n",
              "      <td>78</td>\n",
              "      <td>740</td>\n",
              "      <td>25725</td>\n",
              "      <td>1</td>\n",
              "      <td>debit</td>\n",
              "      <td>2017-03-12 20:10:58.008</td>\n",
              "    </tr>\n",
              "    <tr>\n",
              "      <th>3085</th>\n",
              "      <td>3086</td>\n",
              "      <td>78</td>\n",
              "      <td>910</td>\n",
              "      <td>25725</td>\n",
              "      <td>1</td>\n",
              "      <td>cash</td>\n",
              "      <td>2017-03-26 01:59:26.748</td>\n",
              "    </tr>\n",
              "    <tr>\n",
              "      <th>3101</th>\n",
              "      <td>3102</td>\n",
              "      <td>78</td>\n",
              "      <td>855</td>\n",
              "      <td>51450</td>\n",
              "      <td>2</td>\n",
              "      <td>credit_card</td>\n",
              "      <td>2017-03-21 05:10:34.147</td>\n",
              "    </tr>\n",
              "    <tr>\n",
              "      <th>3151</th>\n",
              "      <td>3152</td>\n",
              "      <td>78</td>\n",
              "      <td>745</td>\n",
              "      <td>25725</td>\n",
              "      <td>1</td>\n",
              "      <td>credit_card</td>\n",
              "      <td>2017-03-18 13:13:07.198</td>\n",
              "    </tr>\n",
              "    <tr>\n",
              "      <th>3167</th>\n",
              "      <td>3168</td>\n",
              "      <td>78</td>\n",
              "      <td>927</td>\n",
              "      <td>51450</td>\n",
              "      <td>2</td>\n",
              "      <td>cash</td>\n",
              "      <td>2017-03-12 12:23:07.516</td>\n",
              "    </tr>\n",
              "    <tr>\n",
              "      <th>3403</th>\n",
              "      <td>3404</td>\n",
              "      <td>78</td>\n",
              "      <td>928</td>\n",
              "      <td>77175</td>\n",
              "      <td>3</td>\n",
              "      <td>debit</td>\n",
              "      <td>2017-03-16 09:45:04.544</td>\n",
              "    </tr>\n",
              "    <tr>\n",
              "      <th>3440</th>\n",
              "      <td>3441</td>\n",
              "      <td>78</td>\n",
              "      <td>982</td>\n",
              "      <td>25725</td>\n",
              "      <td>1</td>\n",
              "      <td>debit</td>\n",
              "      <td>2017-03-19 19:02:53.732</td>\n",
              "    </tr>\n",
              "    <tr>\n",
              "      <th>3705</th>\n",
              "      <td>3706</td>\n",
              "      <td>78</td>\n",
              "      <td>828</td>\n",
              "      <td>51450</td>\n",
              "      <td>2</td>\n",
              "      <td>credit_card</td>\n",
              "      <td>2017-03-14 20:43:14.502</td>\n",
              "    </tr>\n",
              "    <tr>\n",
              "      <th>3724</th>\n",
              "      <td>3725</td>\n",
              "      <td>78</td>\n",
              "      <td>766</td>\n",
              "      <td>77175</td>\n",
              "      <td>3</td>\n",
              "      <td>credit_card</td>\n",
              "      <td>2017-03-16 14:13:25.868</td>\n",
              "    </tr>\n",
              "    <tr>\n",
              "      <th>3780</th>\n",
              "      <td>3781</td>\n",
              "      <td>78</td>\n",
              "      <td>889</td>\n",
              "      <td>25725</td>\n",
              "      <td>1</td>\n",
              "      <td>cash</td>\n",
              "      <td>2017-03-11 21:14:49.542</td>\n",
              "    </tr>\n",
              "    <tr>\n",
              "      <th>4040</th>\n",
              "      <td>4041</td>\n",
              "      <td>78</td>\n",
              "      <td>852</td>\n",
              "      <td>25725</td>\n",
              "      <td>1</td>\n",
              "      <td>cash</td>\n",
              "      <td>2017-03-02 14:31:11.566</td>\n",
              "    </tr>\n",
              "    <tr>\n",
              "      <th>4079</th>\n",
              "      <td>4080</td>\n",
              "      <td>78</td>\n",
              "      <td>946</td>\n",
              "      <td>51450</td>\n",
              "      <td>2</td>\n",
              "      <td>cash</td>\n",
              "      <td>2017-03-20 21:13:59.919</td>\n",
              "    </tr>\n",
              "    <tr>\n",
              "      <th>4192</th>\n",
              "      <td>4193</td>\n",
              "      <td>78</td>\n",
              "      <td>787</td>\n",
              "      <td>77175</td>\n",
              "      <td>3</td>\n",
              "      <td>credit_card</td>\n",
              "      <td>2017-03-18 09:25:31.863</td>\n",
              "    </tr>\n",
              "    <tr>\n",
              "      <th>4311</th>\n",
              "      <td>4312</td>\n",
              "      <td>78</td>\n",
              "      <td>960</td>\n",
              "      <td>51450</td>\n",
              "      <td>2</td>\n",
              "      <td>debit</td>\n",
              "      <td>2017-03-01 03:02:10.223</td>\n",
              "    </tr>\n",
              "    <tr>\n",
              "      <th>4412</th>\n",
              "      <td>4413</td>\n",
              "      <td>78</td>\n",
              "      <td>756</td>\n",
              "      <td>51450</td>\n",
              "      <td>2</td>\n",
              "      <td>debit</td>\n",
              "      <td>2017-03-02 04:13:38.530</td>\n",
              "    </tr>\n",
              "    <tr>\n",
              "      <th>4420</th>\n",
              "      <td>4421</td>\n",
              "      <td>78</td>\n",
              "      <td>969</td>\n",
              "      <td>77175</td>\n",
              "      <td>3</td>\n",
              "      <td>debit</td>\n",
              "      <td>2017-03-09 15:21:34.551</td>\n",
              "    </tr>\n",
              "    <tr>\n",
              "      <th>4505</th>\n",
              "      <td>4506</td>\n",
              "      <td>78</td>\n",
              "      <td>866</td>\n",
              "      <td>25725</td>\n",
              "      <td>1</td>\n",
              "      <td>debit</td>\n",
              "      <td>2017-03-22 22:06:00.804</td>\n",
              "    </tr>\n",
              "    <tr>\n",
              "      <th>4584</th>\n",
              "      <td>4585</td>\n",
              "      <td>78</td>\n",
              "      <td>997</td>\n",
              "      <td>25725</td>\n",
              "      <td>1</td>\n",
              "      <td>cash</td>\n",
              "      <td>2017-03-25 21:48:43.570</td>\n",
              "    </tr>\n",
              "    <tr>\n",
              "      <th>4715</th>\n",
              "      <td>4716</td>\n",
              "      <td>78</td>\n",
              "      <td>818</td>\n",
              "      <td>77175</td>\n",
              "      <td>3</td>\n",
              "      <td>debit</td>\n",
              "      <td>2017-03-05 05:10:43.633</td>\n",
              "    </tr>\n",
              "    <tr>\n",
              "      <th>4918</th>\n",
              "      <td>4919</td>\n",
              "      <td>78</td>\n",
              "      <td>823</td>\n",
              "      <td>25725</td>\n",
              "      <td>1</td>\n",
              "      <td>cash</td>\n",
              "      <td>2017-03-15 13:26:46.262</td>\n",
              "    </tr>\n",
              "  </tbody>\n",
              "</table>\n",
              "</div>"
            ],
            "text/plain": [
              "      order_id  shop_id  ...  payment_method              created_at\n",
              "160        161       78  ...     credit_card 2017-03-12 05:56:56.834\n",
              "490        491       78  ...           debit 2017-03-26 17:08:18.911\n",
              "493        494       78  ...            cash 2017-03-16 21:39:35.400\n",
              "511        512       78  ...            cash 2017-03-09 07:23:13.640\n",
              "617        618       78  ...            cash 2017-03-18 11:18:41.848\n",
              "691        692       78  ...           debit 2017-03-27 22:51:43.203\n",
              "1056      1057       78  ...           debit 2017-03-15 10:16:44.830\n",
              "1193      1194       78  ...           debit 2017-03-16 16:38:25.551\n",
              "1204      1205       78  ...     credit_card 2017-03-17 22:32:21.438\n",
              "1259      1260       78  ...     credit_card 2017-03-27 09:27:19.843\n",
              "1384      1385       78  ...            cash 2017-03-17 16:38:06.279\n",
              "1419      1420       78  ...            cash 2017-03-30 12:23:42.551\n",
              "1452      1453       78  ...     credit_card 2017-03-17 18:09:54.089\n",
              "1529      1530       78  ...            cash 2017-03-29 07:12:01.466\n",
              "2270      2271       78  ...     credit_card 2017-03-14 23:58:21.635\n",
              "2452      2453       78  ...            cash 2017-03-27 11:04:04.363\n",
              "2492      2493       78  ...           debit 2017-03-04 04:37:33.848\n",
              "2495      2496       78  ...            cash 2017-03-26 04:38:52.497\n",
              "2512      2513       78  ...           debit 2017-03-18 18:57:13.421\n",
              "2548      2549       78  ...            cash 2017-03-17 19:35:59.663\n",
              "2564      2565       78  ...           debit 2017-03-25 01:19:35.410\n",
              "2690      2691       78  ...           debit 2017-03-22 07:33:25.104\n",
              "2773      2774       78  ...            cash 2017-03-26 10:36:43.445\n",
              "2818      2819       78  ...           debit 2017-03-17 06:25:50.921\n",
              "2821      2822       78  ...            cash 2017-03-02 17:13:25.271\n",
              "2906      2907       78  ...           debit 2017-03-16 03:45:46.089\n",
              "2922      2923       78  ...           debit 2017-03-12 20:10:58.008\n",
              "3085      3086       78  ...            cash 2017-03-26 01:59:26.748\n",
              "3101      3102       78  ...     credit_card 2017-03-21 05:10:34.147\n",
              "3151      3152       78  ...     credit_card 2017-03-18 13:13:07.198\n",
              "3167      3168       78  ...            cash 2017-03-12 12:23:07.516\n",
              "3403      3404       78  ...           debit 2017-03-16 09:45:04.544\n",
              "3440      3441       78  ...           debit 2017-03-19 19:02:53.732\n",
              "3705      3706       78  ...     credit_card 2017-03-14 20:43:14.502\n",
              "3724      3725       78  ...     credit_card 2017-03-16 14:13:25.868\n",
              "3780      3781       78  ...            cash 2017-03-11 21:14:49.542\n",
              "4040      4041       78  ...            cash 2017-03-02 14:31:11.566\n",
              "4079      4080       78  ...            cash 2017-03-20 21:13:59.919\n",
              "4192      4193       78  ...     credit_card 2017-03-18 09:25:31.863\n",
              "4311      4312       78  ...           debit 2017-03-01 03:02:10.223\n",
              "4412      4413       78  ...           debit 2017-03-02 04:13:38.530\n",
              "4420      4421       78  ...           debit 2017-03-09 15:21:34.551\n",
              "4505      4506       78  ...           debit 2017-03-22 22:06:00.804\n",
              "4584      4585       78  ...            cash 2017-03-25 21:48:43.570\n",
              "4715      4716       78  ...           debit 2017-03-05 05:10:43.633\n",
              "4918      4919       78  ...            cash 2017-03-15 13:26:46.262\n",
              "\n",
              "[46 rows x 7 columns]"
            ]
          },
          "metadata": {},
          "execution_count": 24
        }
      ]
    },
    {
      "cell_type": "markdown",
      "metadata": {
        "id": "pkwkFV0Kr0IO"
      },
      "source": [
        "From the below execution we can predict that the cost of the particular item with order_amount 25725 is expensive unlike remaining orders. The total_items are also more along with the order_amount for all the remaining orders."
      ]
    },
    {
      "cell_type": "code",
      "metadata": {
        "colab": {
          "base_uri": "https://localhost:8080/",
          "height": 645
        },
        "id": "KUVA_omEm-48",
        "outputId": "a16b05b3-53d4-4e7d-f029-6ff8d452f0c4"
      },
      "source": [
        "df[df['order_amount']==25725]"
      ],
      "execution_count": null,
      "outputs": [
        {
          "output_type": "execute_result",
          "data": {
            "text/html": [
              "<div>\n",
              "<style scoped>\n",
              "    .dataframe tbody tr th:only-of-type {\n",
              "        vertical-align: middle;\n",
              "    }\n",
              "\n",
              "    .dataframe tbody tr th {\n",
              "        vertical-align: top;\n",
              "    }\n",
              "\n",
              "    .dataframe thead th {\n",
              "        text-align: right;\n",
              "    }\n",
              "</style>\n",
              "<table border=\"1\" class=\"dataframe\">\n",
              "  <thead>\n",
              "    <tr style=\"text-align: right;\">\n",
              "      <th></th>\n",
              "      <th>order_id</th>\n",
              "      <th>shop_id</th>\n",
              "      <th>user_id</th>\n",
              "      <th>order_amount</th>\n",
              "      <th>total_items</th>\n",
              "      <th>payment_method</th>\n",
              "      <th>created_at</th>\n",
              "    </tr>\n",
              "  </thead>\n",
              "  <tbody>\n",
              "    <tr>\n",
              "      <th>160</th>\n",
              "      <td>161</td>\n",
              "      <td>78</td>\n",
              "      <td>990</td>\n",
              "      <td>25725</td>\n",
              "      <td>1</td>\n",
              "      <td>credit_card</td>\n",
              "      <td>2017-03-12 05:56:56.834</td>\n",
              "    </tr>\n",
              "    <tr>\n",
              "      <th>1056</th>\n",
              "      <td>1057</td>\n",
              "      <td>78</td>\n",
              "      <td>800</td>\n",
              "      <td>25725</td>\n",
              "      <td>1</td>\n",
              "      <td>debit</td>\n",
              "      <td>2017-03-15 10:16:44.830</td>\n",
              "    </tr>\n",
              "    <tr>\n",
              "      <th>1193</th>\n",
              "      <td>1194</td>\n",
              "      <td>78</td>\n",
              "      <td>944</td>\n",
              "      <td>25725</td>\n",
              "      <td>1</td>\n",
              "      <td>debit</td>\n",
              "      <td>2017-03-16 16:38:25.551</td>\n",
              "    </tr>\n",
              "    <tr>\n",
              "      <th>1204</th>\n",
              "      <td>1205</td>\n",
              "      <td>78</td>\n",
              "      <td>970</td>\n",
              "      <td>25725</td>\n",
              "      <td>1</td>\n",
              "      <td>credit_card</td>\n",
              "      <td>2017-03-17 22:32:21.438</td>\n",
              "    </tr>\n",
              "    <tr>\n",
              "      <th>1384</th>\n",
              "      <td>1385</td>\n",
              "      <td>78</td>\n",
              "      <td>867</td>\n",
              "      <td>25725</td>\n",
              "      <td>1</td>\n",
              "      <td>cash</td>\n",
              "      <td>2017-03-17 16:38:06.279</td>\n",
              "    </tr>\n",
              "    <tr>\n",
              "      <th>1419</th>\n",
              "      <td>1420</td>\n",
              "      <td>78</td>\n",
              "      <td>912</td>\n",
              "      <td>25725</td>\n",
              "      <td>1</td>\n",
              "      <td>cash</td>\n",
              "      <td>2017-03-30 12:23:42.551</td>\n",
              "    </tr>\n",
              "    <tr>\n",
              "      <th>1452</th>\n",
              "      <td>1453</td>\n",
              "      <td>78</td>\n",
              "      <td>812</td>\n",
              "      <td>25725</td>\n",
              "      <td>1</td>\n",
              "      <td>credit_card</td>\n",
              "      <td>2017-03-17 18:09:54.089</td>\n",
              "    </tr>\n",
              "    <tr>\n",
              "      <th>2270</th>\n",
              "      <td>2271</td>\n",
              "      <td>78</td>\n",
              "      <td>855</td>\n",
              "      <td>25725</td>\n",
              "      <td>1</td>\n",
              "      <td>credit_card</td>\n",
              "      <td>2017-03-14 23:58:21.635</td>\n",
              "    </tr>\n",
              "    <tr>\n",
              "      <th>2548</th>\n",
              "      <td>2549</td>\n",
              "      <td>78</td>\n",
              "      <td>861</td>\n",
              "      <td>25725</td>\n",
              "      <td>1</td>\n",
              "      <td>cash</td>\n",
              "      <td>2017-03-17 19:35:59.663</td>\n",
              "    </tr>\n",
              "    <tr>\n",
              "      <th>2773</th>\n",
              "      <td>2774</td>\n",
              "      <td>78</td>\n",
              "      <td>890</td>\n",
              "      <td>25725</td>\n",
              "      <td>1</td>\n",
              "      <td>cash</td>\n",
              "      <td>2017-03-26 10:36:43.445</td>\n",
              "    </tr>\n",
              "    <tr>\n",
              "      <th>2922</th>\n",
              "      <td>2923</td>\n",
              "      <td>78</td>\n",
              "      <td>740</td>\n",
              "      <td>25725</td>\n",
              "      <td>1</td>\n",
              "      <td>debit</td>\n",
              "      <td>2017-03-12 20:10:58.008</td>\n",
              "    </tr>\n",
              "    <tr>\n",
              "      <th>3085</th>\n",
              "      <td>3086</td>\n",
              "      <td>78</td>\n",
              "      <td>910</td>\n",
              "      <td>25725</td>\n",
              "      <td>1</td>\n",
              "      <td>cash</td>\n",
              "      <td>2017-03-26 01:59:26.748</td>\n",
              "    </tr>\n",
              "    <tr>\n",
              "      <th>3151</th>\n",
              "      <td>3152</td>\n",
              "      <td>78</td>\n",
              "      <td>745</td>\n",
              "      <td>25725</td>\n",
              "      <td>1</td>\n",
              "      <td>credit_card</td>\n",
              "      <td>2017-03-18 13:13:07.198</td>\n",
              "    </tr>\n",
              "    <tr>\n",
              "      <th>3440</th>\n",
              "      <td>3441</td>\n",
              "      <td>78</td>\n",
              "      <td>982</td>\n",
              "      <td>25725</td>\n",
              "      <td>1</td>\n",
              "      <td>debit</td>\n",
              "      <td>2017-03-19 19:02:53.732</td>\n",
              "    </tr>\n",
              "    <tr>\n",
              "      <th>3780</th>\n",
              "      <td>3781</td>\n",
              "      <td>78</td>\n",
              "      <td>889</td>\n",
              "      <td>25725</td>\n",
              "      <td>1</td>\n",
              "      <td>cash</td>\n",
              "      <td>2017-03-11 21:14:49.542</td>\n",
              "    </tr>\n",
              "    <tr>\n",
              "      <th>4040</th>\n",
              "      <td>4041</td>\n",
              "      <td>78</td>\n",
              "      <td>852</td>\n",
              "      <td>25725</td>\n",
              "      <td>1</td>\n",
              "      <td>cash</td>\n",
              "      <td>2017-03-02 14:31:11.566</td>\n",
              "    </tr>\n",
              "    <tr>\n",
              "      <th>4505</th>\n",
              "      <td>4506</td>\n",
              "      <td>78</td>\n",
              "      <td>866</td>\n",
              "      <td>25725</td>\n",
              "      <td>1</td>\n",
              "      <td>debit</td>\n",
              "      <td>2017-03-22 22:06:00.804</td>\n",
              "    </tr>\n",
              "    <tr>\n",
              "      <th>4584</th>\n",
              "      <td>4585</td>\n",
              "      <td>78</td>\n",
              "      <td>997</td>\n",
              "      <td>25725</td>\n",
              "      <td>1</td>\n",
              "      <td>cash</td>\n",
              "      <td>2017-03-25 21:48:43.570</td>\n",
              "    </tr>\n",
              "    <tr>\n",
              "      <th>4918</th>\n",
              "      <td>4919</td>\n",
              "      <td>78</td>\n",
              "      <td>823</td>\n",
              "      <td>25725</td>\n",
              "      <td>1</td>\n",
              "      <td>cash</td>\n",
              "      <td>2017-03-15 13:26:46.262</td>\n",
              "    </tr>\n",
              "  </tbody>\n",
              "</table>\n",
              "</div>"
            ],
            "text/plain": [
              "      order_id  shop_id  ...  payment_method              created_at\n",
              "160        161       78  ...     credit_card 2017-03-12 05:56:56.834\n",
              "1056      1057       78  ...           debit 2017-03-15 10:16:44.830\n",
              "1193      1194       78  ...           debit 2017-03-16 16:38:25.551\n",
              "1204      1205       78  ...     credit_card 2017-03-17 22:32:21.438\n",
              "1384      1385       78  ...            cash 2017-03-17 16:38:06.279\n",
              "1419      1420       78  ...            cash 2017-03-30 12:23:42.551\n",
              "1452      1453       78  ...     credit_card 2017-03-17 18:09:54.089\n",
              "2270      2271       78  ...     credit_card 2017-03-14 23:58:21.635\n",
              "2548      2549       78  ...            cash 2017-03-17 19:35:59.663\n",
              "2773      2774       78  ...            cash 2017-03-26 10:36:43.445\n",
              "2922      2923       78  ...           debit 2017-03-12 20:10:58.008\n",
              "3085      3086       78  ...            cash 2017-03-26 01:59:26.748\n",
              "3151      3152       78  ...     credit_card 2017-03-18 13:13:07.198\n",
              "3440      3441       78  ...           debit 2017-03-19 19:02:53.732\n",
              "3780      3781       78  ...            cash 2017-03-11 21:14:49.542\n",
              "4040      4041       78  ...            cash 2017-03-02 14:31:11.566\n",
              "4505      4506       78  ...           debit 2017-03-22 22:06:00.804\n",
              "4584      4585       78  ...            cash 2017-03-25 21:48:43.570\n",
              "4918      4919       78  ...            cash 2017-03-15 13:26:46.262\n",
              "\n",
              "[19 rows x 7 columns]"
            ]
          },
          "metadata": {},
          "execution_count": 26
        }
      ]
    },
    {
      "cell_type": "code",
      "metadata": {
        "colab": {
          "base_uri": "https://localhost:8080/"
        },
        "id": "I5wHNLNYoFNg",
        "outputId": "100845e6-507f-42ea-edb4-c8525f483fad"
      },
      "source": [
        "df.median()"
      ],
      "execution_count": null,
      "outputs": [
        {
          "output_type": "stream",
          "name": "stderr",
          "text": [
            "/usr/local/lib/python3.7/dist-packages/ipykernel_launcher.py:1: FutureWarning: DataFrame.mean and DataFrame.median with numeric_only=None will include datetime64 and datetime64tz columns in a future version.\n",
            "  \"\"\"Entry point for launching an IPython kernel.\n"
          ]
        },
        {
          "output_type": "execute_result",
          "data": {
            "text/plain": [
              "order_id        2500.5\n",
              "shop_id           50.0\n",
              "user_id          849.0\n",
              "order_amount     284.0\n",
              "total_items        2.0\n",
              "dtype: float64"
            ]
          },
          "metadata": {},
          "execution_count": 27
        }
      ]
    },
    {
      "cell_type": "markdown",
      "metadata": {
        "id": "AZ9oXK1pwa7P"
      },
      "source": [
        "**QUESTION 1 Solutions:**"
      ]
    },
    {
      "cell_type": "markdown",
      "metadata": {
        "id": "WpYzOi5rtny1"
      },
      "source": [
        "**[1] Think about what could be going wrong with our calculation. Think about a better way to evaluate this data.**\n"
      ]
    },
    {
      "cell_type": "markdown",
      "metadata": {
        "id": "_EciO7fPuCxW"
      },
      "source": [
        "We have been using mean to calculate AOV. We can see many outliers in the plot which may lead to the unusual AOV. we should use a metric that should be satisfying and should not be affected by outliers."
      ]
    },
    {
      "cell_type": "markdown",
      "metadata": {
        "id": "1kKmk2XBwkTo"
      },
      "source": [
        "**[2] What metric would you report for this dataset?**\n"
      ]
    },
    {
      "cell_type": "markdown",
      "metadata": {
        "id": "Ao1aga56w-jk"
      },
      "source": [
        "Using Median as Metric would be the best option because it is generated based on more occuring data and hence the outliers impact is nullified for the vigorously varying data. Calculating on basis of median average would be the best thing to do."
      ]
    },
    {
      "cell_type": "markdown",
      "metadata": {
        "id": "wQd_KE8OzN64"
      },
      "source": [
        "**[3] What is its value?**\n"
      ]
    },
    {
      "cell_type": "markdown",
      "metadata": {
        "id": "MmPhFIlCzhO1"
      },
      "source": [
        "The value of Median or Median Average is 284.0"
      ]
    },
    {
      "cell_type": "markdown",
      "metadata": {
        "id": "4ytUVccUZpt_"
      },
      "source": [
        "**QUESTION 2 Solutions:**"
      ]
    },
    {
      "cell_type": "markdown",
      "metadata": {
        "id": "Fe5IV5BRfoYh"
      },
      "source": [
        "**Question 2: For this question you’ll need to use SQL. Please use queries to answer the following questions. Paste your queries along with your final numerical answers below.**\n"
      ]
    },
    {
      "cell_type": "markdown",
      "metadata": {
        "id": "ajE7i-Mhf3k1"
      },
      "source": [
        "**[1]  How many orders were shipped by Speedy Express in total?**"
      ]
    },
    {
      "cell_type": "markdown",
      "metadata": {
        "id": "ZLlV1gdwdMqG"
      },
      "source": [
        "SELECT count(*) FROM Orders where shipperid='1'"
      ]
    },
    {
      "cell_type": "markdown",
      "metadata": {
        "id": "O6paD_Vocww-"
      },
      "source": [
        "**Output:** 54\n"
      ]
    },
    {
      "cell_type": "markdown",
      "metadata": {
        "id": "lQR2hKZugDBt"
      },
      "source": [
        "**[2]  What is the last name of the employee with the most orders?**\n"
      ]
    },
    {
      "cell_type": "markdown",
      "metadata": {
        "id": "lJCd_QHydT5z"
      },
      "source": [
        "SELECT LastName FROM [Employees] where EmployeeID in (SELECT EmployeeID FROM  Orders GROUP BY EmployeeID ORDER BY COUNT(*) DESC LIMIT 1)"
      ]
    },
    {
      "cell_type": "markdown",
      "metadata": {
        "id": "ilhFgh6IdHOk"
      },
      "source": [
        "**Output:** Peacock"
      ]
    },
    {
      "cell_type": "markdown",
      "metadata": {
        "id": "P6MzQQG8gMGP"
      },
      "source": [
        "**[3]  What product was ordered the most by customers in Germany?**\n"
      ]
    },
    {
      "cell_type": "markdown",
      "metadata": {
        "id": "Ce1jHt5XdYch"
      },
      "source": [
        "SELECT Productname FROM Products where ProductID in(Select ProductID from OrderDetails where OrderID in (SELECT orderid FROM Orders \n",
        "where CustomerID in (select CustomerID from Customers \n",
        "where Country='Germany')) Group by ProductID \n",
        "Order by Count(*) Desc limit 1)"
      ]
    },
    {
      "cell_type": "markdown",
      "metadata": {
        "id": "g7asNdeIeGIf"
      },
      "source": [
        "**Output:** Gorgonzola Telino"
      ]
    }
  ]
}